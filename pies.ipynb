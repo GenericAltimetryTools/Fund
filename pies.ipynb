{
 "cells": [
  {
   "cell_type": "code",
   "execution_count": 48,
   "id": "f25563ab-b701-4492-88d8-3edac9149852",
   "metadata": {},
   "outputs": [],
   "source": [
    "import pandas as pd\n",
    "import numpy as np\n",
    "\n",
    "df1 = pd.read_csv(r\".\\卫星测高.csv\")\n"
   ]
  },
  {
   "cell_type": "code",
   "execution_count": 49,
   "id": "d0d2b3ae-8600-4a47-afe6-0102514bbaab",
   "metadata": {},
   "outputs": [
    {
     "data": {
      "text/html": [
       "<div>\n",
       "<style scoped>\n",
       "    .dataframe tbody tr th:only-of-type {\n",
       "        vertical-align: middle;\n",
       "    }\n",
       "\n",
       "    .dataframe tbody tr th {\n",
       "        vertical-align: top;\n",
       "    }\n",
       "\n",
       "    .dataframe thead th {\n",
       "        text-align: right;\n",
       "    }\n",
       "</style>\n",
       "<table border=\"1\" class=\"dataframe\">\n",
       "  <thead>\n",
       "    <tr style=\"text-align: right;\">\n",
       "      <th></th>\n",
       "      <th>项目标题</th>\n",
       "      <th>所属学部</th>\n",
       "      <th>项目类型</th>\n",
       "      <th>项目编号</th>\n",
       "      <th>金额（万）</th>\n",
       "      <th>负责人</th>\n",
       "      <th>单位</th>\n",
       "      <th>批准年份</th>\n",
       "      <th>一级学科</th>\n",
       "      <th>一级代码</th>\n",
       "      <th>二级学科</th>\n",
       "      <th>二级代码</th>\n",
       "      <th>三级学科</th>\n",
       "      <th>三级代码</th>\n",
       "      <th>执行起自</th>\n",
       "      <th>执行截至</th>\n",
       "    </tr>\n",
       "  </thead>\n",
       "  <tbody>\n",
       "    <tr>\n",
       "      <th>0</th>\n",
       "      <td>基于宽刈幅测高资料的东海黑潮两侧亚中尺度过程三维结构特征分析</td>\n",
       "      <td>地球科学部</td>\n",
       "      <td>青年科学基金项目</td>\n",
       "      <td>42106031.0</td>\n",
       "      <td>30.0</td>\n",
       "      <td>庄展鹏</td>\n",
       "      <td>自然资源部第一海洋研究所</td>\n",
       "      <td>2021.0</td>\n",
       "      <td>NaN</td>\n",
       "      <td>NaN</td>\n",
       "      <td>NaN</td>\n",
       "      <td>NaN</td>\n",
       "      <td>NaN</td>\n",
       "      <td>NaN</td>\n",
       "      <td>FALSE</td>\n",
       "      <td>FALSE</td>\n",
       "    </tr>\n",
       "    <tr>\n",
       "      <th>1</th>\n",
       "      <td>基于星载激光测高仪多模式回波的地形参数反演研究</td>\n",
       "      <td>地球科学部</td>\n",
       "      <td>面上项目</td>\n",
       "      <td>41971302.0</td>\n",
       "      <td>53.0</td>\n",
       "      <td>周辉</td>\n",
       "      <td>武汉大学</td>\n",
       "      <td>2019.0</td>\n",
       "      <td>地理学</td>\n",
       "      <td>D01</td>\n",
       "      <td>遥感机理与方法</td>\n",
       "      <td>D0106</td>\n",
       "      <td>遥感机理与方法</td>\n",
       "      <td>D0106</td>\n",
       "      <td>2020-01</td>\n",
       "      <td>2023-12</td>\n",
       "    </tr>\n",
       "    <tr>\n",
       "      <th>2</th>\n",
       "      <td>基于GNSS、长期验潮站与卫星测高联合观测的中国沿海绝对海平面变化研究</td>\n",
       "      <td>地球科学部</td>\n",
       "      <td>青年科学基金项目</td>\n",
       "      <td>41706115.0</td>\n",
       "      <td>25.0</td>\n",
       "      <td>周东旭</td>\n",
       "      <td>自然资源部第一海洋研究所</td>\n",
       "      <td>2017.0</td>\n",
       "      <td>海洋科学</td>\n",
       "      <td>D06</td>\n",
       "      <td>海洋物理与观测探测技术</td>\n",
       "      <td>D0608</td>\n",
       "      <td>海洋物理与观测探测技术</td>\n",
       "      <td>D0608</td>\n",
       "      <td>2018-01</td>\n",
       "      <td>2020-12</td>\n",
       "    </tr>\n",
       "    <tr>\n",
       "      <th>3</th>\n",
       "      <td>面向高分辨率、宽刈幅海面测高资料的高效同化方法</td>\n",
       "      <td>地球科学部</td>\n",
       "      <td>青年科学基金项目</td>\n",
       "      <td>42006008.0</td>\n",
       "      <td>24.0</td>\n",
       "      <td>周超杰</td>\n",
       "      <td>中国石油大学（华东）</td>\n",
       "      <td>2020.0</td>\n",
       "      <td>海洋科学</td>\n",
       "      <td>D06</td>\n",
       "      <td>物理海洋学</td>\n",
       "      <td>D0601</td>\n",
       "      <td>NaN</td>\n",
       "      <td>NaN</td>\n",
       "      <td>FALSE</td>\n",
       "      <td>FALSE</td>\n",
       "    </tr>\n",
       "    <tr>\n",
       "      <th>4</th>\n",
       "      <td>联合航空矢量重力测量和卫星测高精化海岸带大地水准面</td>\n",
       "      <td>地球科学部</td>\n",
       "      <td>青年科学基金项目</td>\n",
       "      <td>41504013.0</td>\n",
       "      <td>21.0</td>\n",
       "      <td>周波阳</td>\n",
       "      <td>广东工业大学</td>\n",
       "      <td>2015.0</td>\n",
       "      <td>地球物理学和空间物理学</td>\n",
       "      <td>D04</td>\n",
       "      <td>大地测量学</td>\n",
       "      <td>D0401</td>\n",
       "      <td>物理大地测量学</td>\n",
       "      <td>D040101</td>\n",
       "      <td>2016-01</td>\n",
       "      <td>2018-12</td>\n",
       "    </tr>\n",
       "    <tr>\n",
       "      <th>...</th>\n",
       "      <td>...</td>\n",
       "      <td>...</td>\n",
       "      <td>...</td>\n",
       "      <td>...</td>\n",
       "      <td>...</td>\n",
       "      <td>...</td>\n",
       "      <td>...</td>\n",
       "      <td>...</td>\n",
       "      <td>...</td>\n",
       "      <td>...</td>\n",
       "      <td>...</td>\n",
       "      <td>...</td>\n",
       "      <td>...</td>\n",
       "      <td>...</td>\n",
       "      <td>...</td>\n",
       "      <td>...</td>\n",
       "    </tr>\n",
       "    <tr>\n",
       "      <th>67</th>\n",
       "      <td>NaN</td>\n",
       "      <td>NaN</td>\n",
       "      <td>NaN</td>\n",
       "      <td>NaN</td>\n",
       "      <td>NaN</td>\n",
       "      <td>NaN</td>\n",
       "      <td>NaN</td>\n",
       "      <td>NaN</td>\n",
       "      <td>NaN</td>\n",
       "      <td>NaN</td>\n",
       "      <td>NaN</td>\n",
       "      <td>NaN</td>\n",
       "      <td>NaN</td>\n",
       "      <td>NaN</td>\n",
       "      <td>NaN</td>\n",
       "      <td>NaN</td>\n",
       "    </tr>\n",
       "    <tr>\n",
       "      <th>68</th>\n",
       "      <td>NaN</td>\n",
       "      <td>NaN</td>\n",
       "      <td>NaN</td>\n",
       "      <td>NaN</td>\n",
       "      <td>NaN</td>\n",
       "      <td>NaN</td>\n",
       "      <td>NaN</td>\n",
       "      <td>NaN</td>\n",
       "      <td>NaN</td>\n",
       "      <td>NaN</td>\n",
       "      <td>NaN</td>\n",
       "      <td>NaN</td>\n",
       "      <td>NaN</td>\n",
       "      <td>NaN</td>\n",
       "      <td>NaN</td>\n",
       "      <td>NaN</td>\n",
       "    </tr>\n",
       "    <tr>\n",
       "      <th>69</th>\n",
       "      <td>NaN</td>\n",
       "      <td>NaN</td>\n",
       "      <td>NaN</td>\n",
       "      <td>NaN</td>\n",
       "      <td>NaN</td>\n",
       "      <td>NaN</td>\n",
       "      <td>NaN</td>\n",
       "      <td>NaN</td>\n",
       "      <td>NaN</td>\n",
       "      <td>NaN</td>\n",
       "      <td>NaN</td>\n",
       "      <td>NaN</td>\n",
       "      <td>NaN</td>\n",
       "      <td>NaN</td>\n",
       "      <td>NaN</td>\n",
       "      <td>NaN</td>\n",
       "    </tr>\n",
       "    <tr>\n",
       "      <th>70</th>\n",
       "      <td>NaN</td>\n",
       "      <td>NaN</td>\n",
       "      <td>NaN</td>\n",
       "      <td>NaN</td>\n",
       "      <td>NaN</td>\n",
       "      <td>NaN</td>\n",
       "      <td>NaN</td>\n",
       "      <td>NaN</td>\n",
       "      <td>NaN</td>\n",
       "      <td>NaN</td>\n",
       "      <td>NaN</td>\n",
       "      <td>NaN</td>\n",
       "      <td>NaN</td>\n",
       "      <td>NaN</td>\n",
       "      <td>NaN</td>\n",
       "      <td>NaN</td>\n",
       "    </tr>\n",
       "    <tr>\n",
       "      <th>71</th>\n",
       "      <td>NaN</td>\n",
       "      <td>NaN</td>\n",
       "      <td>NaN</td>\n",
       "      <td>NaN</td>\n",
       "      <td>NaN</td>\n",
       "      <td>NaN</td>\n",
       "      <td>NaN</td>\n",
       "      <td>NaN</td>\n",
       "      <td>NaN</td>\n",
       "      <td>NaN</td>\n",
       "      <td>NaN</td>\n",
       "      <td>NaN</td>\n",
       "      <td>NaN</td>\n",
       "      <td>NaN</td>\n",
       "      <td>NaN</td>\n",
       "      <td>NaN</td>\n",
       "    </tr>\n",
       "  </tbody>\n",
       "</table>\n",
       "<p>72 rows × 16 columns</p>\n",
       "</div>"
      ],
      "text/plain": [
       "                                   项目标题   所属学部      项目类型        项目编号  金额（万）  \\\n",
       "0        基于宽刈幅测高资料的东海黑潮两侧亚中尺度过程三维结构特征分析  地球科学部  青年科学基金项目  42106031.0   30.0   \n",
       "1               基于星载激光测高仪多模式回波的地形参数反演研究  地球科学部      面上项目  41971302.0   53.0   \n",
       "2   基于GNSS、长期验潮站与卫星测高联合观测的中国沿海绝对海平面变化研究  地球科学部  青年科学基金项目  41706115.0   25.0   \n",
       "3               面向高分辨率、宽刈幅海面测高资料的高效同化方法  地球科学部  青年科学基金项目  42006008.0   24.0   \n",
       "4             联合航空矢量重力测量和卫星测高精化海岸带大地水准面  地球科学部  青年科学基金项目  41504013.0   21.0   \n",
       "..                                  ...    ...       ...         ...    ...   \n",
       "67                                  NaN    NaN       NaN         NaN    NaN   \n",
       "68                                  NaN    NaN       NaN         NaN    NaN   \n",
       "69                                  NaN    NaN       NaN         NaN    NaN   \n",
       "70                                  NaN    NaN       NaN         NaN    NaN   \n",
       "71                                  NaN    NaN       NaN         NaN    NaN   \n",
       "\n",
       "    负责人            单位    批准年份         一级学科 一级代码         二级学科   二级代码  \\\n",
       "0   庄展鹏  自然资源部第一海洋研究所  2021.0          NaN  NaN          NaN    NaN   \n",
       "1    周辉          武汉大学  2019.0          地理学  D01      遥感机理与方法  D0106   \n",
       "2   周东旭  自然资源部第一海洋研究所  2017.0         海洋科学  D06  海洋物理与观测探测技术  D0608   \n",
       "3   周超杰    中国石油大学（华东）  2020.0         海洋科学  D06        物理海洋学  D0601   \n",
       "4   周波阳        广东工业大学  2015.0  地球物理学和空间物理学  D04        大地测量学  D0401   \n",
       "..  ...           ...     ...          ...  ...          ...    ...   \n",
       "67  NaN           NaN     NaN          NaN  NaN          NaN    NaN   \n",
       "68  NaN           NaN     NaN          NaN  NaN          NaN    NaN   \n",
       "69  NaN           NaN     NaN          NaN  NaN          NaN    NaN   \n",
       "70  NaN           NaN     NaN          NaN  NaN          NaN    NaN   \n",
       "71  NaN           NaN     NaN          NaN  NaN          NaN    NaN   \n",
       "\n",
       "           三级学科     三级代码     执行起自     执行截至  \n",
       "0           NaN      NaN    FALSE    FALSE  \n",
       "1       遥感机理与方法    D0106  2020-01  2023-12  \n",
       "2   海洋物理与观测探测技术    D0608  2018-01  2020-12  \n",
       "3           NaN      NaN    FALSE    FALSE  \n",
       "4       物理大地测量学  D040101  2016-01  2018-12  \n",
       "..          ...      ...      ...      ...  \n",
       "67          NaN      NaN      NaN      NaN  \n",
       "68          NaN      NaN      NaN      NaN  \n",
       "69          NaN      NaN      NaN      NaN  \n",
       "70          NaN      NaN      NaN      NaN  \n",
       "71          NaN      NaN      NaN      NaN  \n",
       "\n",
       "[72 rows x 16 columns]"
      ]
     },
     "execution_count": 49,
     "metadata": {},
     "output_type": "execute_result"
    }
   ],
   "source": [
    "df1"
   ]
  },
  {
   "cell_type": "code",
   "execution_count": 51,
   "id": "23914290-da30-4a19-9cbb-ab1f56541f5a",
   "metadata": {},
   "outputs": [
    {
     "name": "stdout",
     "output_type": "stream",
     "text": [
      "<class 'pandas.core.frame.DataFrame'>\n",
      "RangeIndex: 72 entries, 0 to 71\n",
      "Data columns (total 16 columns):\n",
      " #   Column  Non-Null Count  Dtype  \n",
      "---  ------  --------------  -----  \n",
      " 0   项目标题    66 non-null     object \n",
      " 1   所属学部    66 non-null     object \n",
      " 2   项目类型    66 non-null     object \n",
      " 3   项目编号    61 non-null     float64\n",
      " 4   金额（万）   66 non-null     float64\n",
      " 5   负责人     66 non-null     object \n",
      " 6   单位      66 non-null     object \n",
      " 7   批准年份    66 non-null     float64\n",
      " 8   一级学科    55 non-null     object \n",
      " 9   一级代码    55 non-null     object \n",
      " 10  二级学科    55 non-null     object \n",
      " 11  二级代码    55 non-null     object \n",
      " 12  三级学科    34 non-null     object \n",
      " 13  三级代码    34 non-null     object \n",
      " 14  执行起自    64 non-null     object \n",
      " 15  执行截至    64 non-null     object \n",
      "dtypes: float64(3), object(13)\n",
      "memory usage: 9.1+ KB\n"
     ]
    }
   ],
   "source": [
    "df1.info()"
   ]
  },
  {
   "cell_type": "code",
   "execution_count": 53,
   "id": "ec4f7593-6b48-4622-a60a-890fd05a9a21",
   "metadata": {},
   "outputs": [],
   "source": [
    "df1=df1.head(66)"
   ]
  },
  {
   "cell_type": "code",
   "execution_count": 54,
   "id": "c92b9091-c406-4eb9-bdaf-8124c9812bed",
   "metadata": {},
   "outputs": [
    {
     "data": {
      "text/html": [
       "<div>\n",
       "<style scoped>\n",
       "    .dataframe tbody tr th:only-of-type {\n",
       "        vertical-align: middle;\n",
       "    }\n",
       "\n",
       "    .dataframe tbody tr th {\n",
       "        vertical-align: top;\n",
       "    }\n",
       "\n",
       "    .dataframe thead th {\n",
       "        text-align: right;\n",
       "    }\n",
       "</style>\n",
       "<table border=\"1\" class=\"dataframe\">\n",
       "  <thead>\n",
       "    <tr style=\"text-align: right;\">\n",
       "      <th></th>\n",
       "      <th>项目标题</th>\n",
       "      <th>所属学部</th>\n",
       "      <th>项目类型</th>\n",
       "      <th>项目编号</th>\n",
       "      <th>金额（万）</th>\n",
       "      <th>负责人</th>\n",
       "      <th>单位</th>\n",
       "      <th>批准年份</th>\n",
       "      <th>一级学科</th>\n",
       "      <th>一级代码</th>\n",
       "      <th>二级学科</th>\n",
       "      <th>二级代码</th>\n",
       "      <th>三级学科</th>\n",
       "      <th>三级代码</th>\n",
       "      <th>执行起自</th>\n",
       "      <th>执行截至</th>\n",
       "    </tr>\n",
       "  </thead>\n",
       "  <tbody>\n",
       "    <tr>\n",
       "      <th>0</th>\n",
       "      <td>基于宽刈幅测高资料的东海黑潮两侧亚中尺度过程三维结构特征分析</td>\n",
       "      <td>地球科学部</td>\n",
       "      <td>青年科学基金项目</td>\n",
       "      <td>42106031.0</td>\n",
       "      <td>30.0</td>\n",
       "      <td>庄展鹏</td>\n",
       "      <td>自然资源部第一海洋研究所</td>\n",
       "      <td>2021.0</td>\n",
       "      <td>NaN</td>\n",
       "      <td>NaN</td>\n",
       "      <td>NaN</td>\n",
       "      <td>NaN</td>\n",
       "      <td>NaN</td>\n",
       "      <td>NaN</td>\n",
       "      <td>FALSE</td>\n",
       "      <td>FALSE</td>\n",
       "    </tr>\n",
       "    <tr>\n",
       "      <th>1</th>\n",
       "      <td>基于星载激光测高仪多模式回波的地形参数反演研究</td>\n",
       "      <td>地球科学部</td>\n",
       "      <td>面上项目</td>\n",
       "      <td>41971302.0</td>\n",
       "      <td>53.0</td>\n",
       "      <td>周辉</td>\n",
       "      <td>武汉大学</td>\n",
       "      <td>2019.0</td>\n",
       "      <td>地理学</td>\n",
       "      <td>D01</td>\n",
       "      <td>遥感机理与方法</td>\n",
       "      <td>D0106</td>\n",
       "      <td>遥感机理与方法</td>\n",
       "      <td>D0106</td>\n",
       "      <td>2020-01</td>\n",
       "      <td>2023-12</td>\n",
       "    </tr>\n",
       "    <tr>\n",
       "      <th>2</th>\n",
       "      <td>基于GNSS、长期验潮站与卫星测高联合观测的中国沿海绝对海平面变化研究</td>\n",
       "      <td>地球科学部</td>\n",
       "      <td>青年科学基金项目</td>\n",
       "      <td>41706115.0</td>\n",
       "      <td>25.0</td>\n",
       "      <td>周东旭</td>\n",
       "      <td>自然资源部第一海洋研究所</td>\n",
       "      <td>2017.0</td>\n",
       "      <td>海洋科学</td>\n",
       "      <td>D06</td>\n",
       "      <td>海洋物理与观测探测技术</td>\n",
       "      <td>D0608</td>\n",
       "      <td>海洋物理与观测探测技术</td>\n",
       "      <td>D0608</td>\n",
       "      <td>2018-01</td>\n",
       "      <td>2020-12</td>\n",
       "    </tr>\n",
       "    <tr>\n",
       "      <th>3</th>\n",
       "      <td>面向高分辨率、宽刈幅海面测高资料的高效同化方法</td>\n",
       "      <td>地球科学部</td>\n",
       "      <td>青年科学基金项目</td>\n",
       "      <td>42006008.0</td>\n",
       "      <td>24.0</td>\n",
       "      <td>周超杰</td>\n",
       "      <td>中国石油大学（华东）</td>\n",
       "      <td>2020.0</td>\n",
       "      <td>海洋科学</td>\n",
       "      <td>D06</td>\n",
       "      <td>物理海洋学</td>\n",
       "      <td>D0601</td>\n",
       "      <td>NaN</td>\n",
       "      <td>NaN</td>\n",
       "      <td>FALSE</td>\n",
       "      <td>FALSE</td>\n",
       "    </tr>\n",
       "    <tr>\n",
       "      <th>4</th>\n",
       "      <td>联合航空矢量重力测量和卫星测高精化海岸带大地水准面</td>\n",
       "      <td>地球科学部</td>\n",
       "      <td>青年科学基金项目</td>\n",
       "      <td>41504013.0</td>\n",
       "      <td>21.0</td>\n",
       "      <td>周波阳</td>\n",
       "      <td>广东工业大学</td>\n",
       "      <td>2015.0</td>\n",
       "      <td>地球物理学和空间物理学</td>\n",
       "      <td>D04</td>\n",
       "      <td>大地测量学</td>\n",
       "      <td>D0401</td>\n",
       "      <td>物理大地测量学</td>\n",
       "      <td>D040101</td>\n",
       "      <td>2016-01</td>\n",
       "      <td>2018-12</td>\n",
       "    </tr>\n",
       "    <tr>\n",
       "      <th>...</th>\n",
       "      <td>...</td>\n",
       "      <td>...</td>\n",
       "      <td>...</td>\n",
       "      <td>...</td>\n",
       "      <td>...</td>\n",
       "      <td>...</td>\n",
       "      <td>...</td>\n",
       "      <td>...</td>\n",
       "      <td>...</td>\n",
       "      <td>...</td>\n",
       "      <td>...</td>\n",
       "      <td>...</td>\n",
       "      <td>...</td>\n",
       "      <td>...</td>\n",
       "      <td>...</td>\n",
       "      <td>...</td>\n",
       "    </tr>\n",
       "    <tr>\n",
       "      <th>61</th>\n",
       "      <td>合成孔径高度计回波波形的经验函数模型构建与抗差估计方法研究</td>\n",
       "      <td>地球科学部</td>\n",
       "      <td>面上项目</td>\n",
       "      <td>41674082.0</td>\n",
       "      <td>40.0</td>\n",
       "      <td>翟振和</td>\n",
       "      <td>西安测绘研究所</td>\n",
       "      <td>2016.0</td>\n",
       "      <td>地球物理学和空间物理学</td>\n",
       "      <td>D04</td>\n",
       "      <td>重力学</td>\n",
       "      <td>D0405</td>\n",
       "      <td>重力学</td>\n",
       "      <td>D0405</td>\n",
       "      <td>2017-01</td>\n",
       "      <td>2020-12</td>\n",
       "    </tr>\n",
       "    <tr>\n",
       "      <th>62</th>\n",
       "      <td>国产海洋动力卫星陆表水循环关键参数反演模型与不确定性研究</td>\n",
       "      <td>地球科学部</td>\n",
       "      <td>面上项目</td>\n",
       "      <td>41976171.0</td>\n",
       "      <td>62.0</td>\n",
       "      <td>陈权</td>\n",
       "      <td>中国科学院遥感与数字地球研究所</td>\n",
       "      <td>2019.0</td>\n",
       "      <td>海洋科学</td>\n",
       "      <td>D06</td>\n",
       "      <td>海洋遥感</td>\n",
       "      <td>D0607</td>\n",
       "      <td>海洋遥感</td>\n",
       "      <td>D0607</td>\n",
       "      <td>2020-01</td>\n",
       "      <td>2023-12</td>\n",
       "    </tr>\n",
       "    <tr>\n",
       "      <th>63</th>\n",
       "      <td>融合多源卫星观测数据精确量化长江流域水资源时空演变特性</td>\n",
       "      <td>地球科学部</td>\n",
       "      <td>面上项目</td>\n",
       "      <td>41974019.0</td>\n",
       "      <td>63.0</td>\n",
       "      <td>超能芳</td>\n",
       "      <td>中国地质大学（武汉）</td>\n",
       "      <td>2019.0</td>\n",
       "      <td>地球物理学和空间物理学</td>\n",
       "      <td>D04</td>\n",
       "      <td>物理大地测量学</td>\n",
       "      <td>D0401</td>\n",
       "      <td>NaN</td>\n",
       "      <td>NaN</td>\n",
       "      <td>FALSE</td>\n",
       "      <td>FALSE</td>\n",
       "    </tr>\n",
       "    <tr>\n",
       "      <th>64</th>\n",
       "      <td>联合多源数据研究长江源区冰川质量变化及其对水资源影响</td>\n",
       "      <td>地球科学部</td>\n",
       "      <td>青年科学基金项目</td>\n",
       "      <td>41704011.0</td>\n",
       "      <td>25.0</td>\n",
       "      <td>超能芳</td>\n",
       "      <td>华中科技大学</td>\n",
       "      <td>2017.0</td>\n",
       "      <td>地球物理学和空间物理学</td>\n",
       "      <td>D04</td>\n",
       "      <td>物理大地测量学</td>\n",
       "      <td>D0401</td>\n",
       "      <td>NaN</td>\n",
       "      <td>NaN</td>\n",
       "      <td>FALSE</td>\n",
       "      <td>FALSE</td>\n",
       "    </tr>\n",
       "    <tr>\n",
       "      <th>65</th>\n",
       "      <td>标定雷达高度计资料测定内陆水变化理论方法及其在地下水监测中应用</td>\n",
       "      <td>地球科学部</td>\n",
       "      <td>面上项目</td>\n",
       "      <td>41574001.0</td>\n",
       "      <td>70.0</td>\n",
       "      <td>Vagner G.Ferreira</td>\n",
       "      <td>河海大学</td>\n",
       "      <td>2015.0</td>\n",
       "      <td>地球物理学和空间物理学</td>\n",
       "      <td>D04</td>\n",
       "      <td>物理大地测量学</td>\n",
       "      <td>D0401</td>\n",
       "      <td>NaN</td>\n",
       "      <td>NaN</td>\n",
       "      <td>FALSE</td>\n",
       "      <td>FALSE</td>\n",
       "    </tr>\n",
       "  </tbody>\n",
       "</table>\n",
       "<p>66 rows × 16 columns</p>\n",
       "</div>"
      ],
      "text/plain": [
       "                                   项目标题   所属学部      项目类型        项目编号  金额（万）  \\\n",
       "0        基于宽刈幅测高资料的东海黑潮两侧亚中尺度过程三维结构特征分析  地球科学部  青年科学基金项目  42106031.0   30.0   \n",
       "1               基于星载激光测高仪多模式回波的地形参数反演研究  地球科学部      面上项目  41971302.0   53.0   \n",
       "2   基于GNSS、长期验潮站与卫星测高联合观测的中国沿海绝对海平面变化研究  地球科学部  青年科学基金项目  41706115.0   25.0   \n",
       "3               面向高分辨率、宽刈幅海面测高资料的高效同化方法  地球科学部  青年科学基金项目  42006008.0   24.0   \n",
       "4             联合航空矢量重力测量和卫星测高精化海岸带大地水准面  地球科学部  青年科学基金项目  41504013.0   21.0   \n",
       "..                                  ...    ...       ...         ...    ...   \n",
       "61        合成孔径高度计回波波形的经验函数模型构建与抗差估计方法研究  地球科学部      面上项目  41674082.0   40.0   \n",
       "62         国产海洋动力卫星陆表水循环关键参数反演模型与不确定性研究  地球科学部      面上项目  41976171.0   62.0   \n",
       "63          融合多源卫星观测数据精确量化长江流域水资源时空演变特性  地球科学部      面上项目  41974019.0   63.0   \n",
       "64           联合多源数据研究长江源区冰川质量变化及其对水资源影响  地球科学部  青年科学基金项目  41704011.0   25.0   \n",
       "65      标定雷达高度计资料测定内陆水变化理论方法及其在地下水监测中应用  地球科学部      面上项目  41574001.0   70.0   \n",
       "\n",
       "                  负责人               单位    批准年份         一级学科 一级代码         二级学科  \\\n",
       "0                 庄展鹏     自然资源部第一海洋研究所  2021.0          NaN  NaN          NaN   \n",
       "1                  周辉             武汉大学  2019.0          地理学  D01      遥感机理与方法   \n",
       "2                 周东旭     自然资源部第一海洋研究所  2017.0         海洋科学  D06  海洋物理与观测探测技术   \n",
       "3                 周超杰       中国石油大学（华东）  2020.0         海洋科学  D06        物理海洋学   \n",
       "4                 周波阳           广东工业大学  2015.0  地球物理学和空间物理学  D04        大地测量学   \n",
       "..                ...              ...     ...          ...  ...          ...   \n",
       "61                翟振和          西安测绘研究所  2016.0  地球物理学和空间物理学  D04          重力学   \n",
       "62                 陈权  中国科学院遥感与数字地球研究所  2019.0         海洋科学  D06         海洋遥感   \n",
       "63                超能芳       中国地质大学（武汉）  2019.0  地球物理学和空间物理学  D04      物理大地测量学   \n",
       "64                超能芳           华中科技大学  2017.0  地球物理学和空间物理学  D04      物理大地测量学   \n",
       "65  Vagner G.Ferreira             河海大学  2015.0  地球物理学和空间物理学  D04      物理大地测量学   \n",
       "\n",
       "     二级代码         三级学科     三级代码     执行起自     执行截至  \n",
       "0     NaN          NaN      NaN    FALSE    FALSE  \n",
       "1   D0106      遥感机理与方法    D0106  2020-01  2023-12  \n",
       "2   D0608  海洋物理与观测探测技术    D0608  2018-01  2020-12  \n",
       "3   D0601          NaN      NaN    FALSE    FALSE  \n",
       "4   D0401      物理大地测量学  D040101  2016-01  2018-12  \n",
       "..    ...          ...      ...      ...      ...  \n",
       "61  D0405          重力学    D0405  2017-01  2020-12  \n",
       "62  D0607         海洋遥感    D0607  2020-01  2023-12  \n",
       "63  D0401          NaN      NaN    FALSE    FALSE  \n",
       "64  D0401          NaN      NaN    FALSE    FALSE  \n",
       "65  D0401          NaN      NaN    FALSE    FALSE  \n",
       "\n",
       "[66 rows x 16 columns]"
      ]
     },
     "execution_count": 54,
     "metadata": {},
     "output_type": "execute_result"
    }
   ],
   "source": [
    "df1"
   ]
  },
  {
   "cell_type": "code",
   "execution_count": 2,
   "id": "2c985509-3950-47d9-9db5-a5d59f6a69eb",
   "metadata": {},
   "outputs": [],
   "source": [
    "# df1.loc[df1['Record Count'] < 200, 'Web of Science Categories'] = 'Other Categories' # Represent only large countries\n",
    "# df2.loc[df2['Record Count'] < 200, 'Web of Science Categories'] = 'Other Categories' # Represent only large countries\n",
    "# df3.loc[df3['Record Count'] < 200, 'Web of Science Categories'] = 'Other Categories' # Represent only large countries\n",
    "# df4.loc[df4['Record Count'] < 200, 'Web of Science Categories'] = 'Other Categories' # Represent only large countries\n",
    "# df5.loc[df5['Record Count'] < 50, 'Web of Science Categories'] = 'Other Categories' # Represent only large countries\n",
    "# df6.loc[df6['Record Count'] < 50, 'Web of Science Categories'] = 'Other Categories' # Represent only large countries"
   ]
  },
  {
   "cell_type": "code",
   "execution_count": 3,
   "id": "23d7d846-0aea-4183-bae8-492803b89a96",
   "metadata": {},
   "outputs": [],
   "source": [
    "# set Other Categories' value to 0.\n",
    "# df1.loc[df1['Record Count'] < 200, 'Record Count'] = '0' # Represent only large countries\n",
    "# df2.loc[df2['Record Count'] < 200, 'Record Count'] = '0' \n",
    "# df3.loc[df3['Record Count'] < 200, 'Record Count'] = '0' \n",
    "# df4.loc[df4['Record Count'] < 200, 'Record Count'] = '0' \n",
    "# df5.loc[df5['Record Count'] < 50, 'Record Count'] = '0' \n",
    "# df6.loc[df6['Record Count'] < 50, 'Record Count'] = '0' "
   ]
  },
  {
   "cell_type": "code",
   "execution_count": 55,
   "id": "3824659a-068a-461d-8296-bde5df3b9a41",
   "metadata": {},
   "outputs": [
    {
     "data": {
      "text/plain": [
       "0     2021.0\n",
       "1     2019.0\n",
       "2     2017.0\n",
       "3     2020.0\n",
       "4     2015.0\n",
       "       ...  \n",
       "61    2016.0\n",
       "62    2019.0\n",
       "63    2019.0\n",
       "64    2017.0\n",
       "65    2015.0\n",
       "Name: 批准年份, Length: 66, dtype: float64"
      ]
     },
     "execution_count": 55,
     "metadata": {},
     "output_type": "execute_result"
    }
   ],
   "source": [
    "df1['批准年份']"
   ]
  },
  {
   "cell_type": "code",
   "execution_count": 59,
   "id": "8d3b5e8d-3b32-4361-b8ad-77130794c241",
   "metadata": {},
   "outputs": [
    {
     "data": {
      "application/vnd.plotly.v1+json": {
       "config": {
        "plotlyServerURL": "https://plot.ly"
       },
       "data": [
        {
         "domain": {
          "x": [
           0,
           1
          ],
          "y": [
           0,
           1
          ]
         },
         "hole": 0.2,
         "hovertemplate": "项目类型=%{label}<extra></extra>",
         "labels": [
          "青年科学基金项目",
          "面上项目",
          "青年科学基金项目",
          "青年科学基金项目",
          "青年科学基金项目",
          "面上项目",
          "面上项目",
          "面上项目",
          "青年科学基金项目",
          "青年科学基金项目",
          "面上项目",
          "青年科学基金项目",
          "面上项目",
          "青年科学基金项目",
          "面上项目",
          "青年科学基金项目",
          "国际（地区）合作与交流项目",
          "面上项目",
          "青年科学基金项目",
          "面上项目",
          "面上项目",
          "青年科学基金项目",
          "面上项目",
          "青年科学基金项目",
          "青年科学基金项目",
          "面上项目",
          "面上项目",
          "面上项目",
          "面上项目",
          "面上项目",
          "面上项目",
          "面上项目",
          "面上项目",
          "青年科学基金项目",
          "面上项目",
          "青年科学基金项目",
          "青年科学基金项目",
          "面上项目",
          "青年科学基金项目",
          "面上项目",
          "面上项目",
          "面上项目",
          "面上项目",
          "面上项目",
          "青年科学基金项目",
          "面上项目",
          "青年科学基金项目",
          "面上项目",
          "面上项目",
          "青年科学基金项目",
          "面上项目",
          "面上项目",
          "面上项目",
          "面上项目",
          "青年科学基金项目",
          "青年科学基金项目",
          "青年科学基金项目",
          "面上项目",
          "青年科学基金项目",
          "青年科学基金项目",
          "青年科学基金项目",
          "面上项目",
          "面上项目",
          "面上项目",
          "青年科学基金项目",
          "面上项目"
         ],
         "legendgroup": "",
         "name": "",
         "opacity": 1,
         "pull": 0,
         "showlegend": false,
         "textinfo": "label+value",
         "textposition": "inside",
         "type": "pie"
        }
       ],
       "layout": {
        "height": 500,
        "legend": {
         "tracegroupgap": 0
        },
        "margin": {
         "b": 20,
         "l": 20,
         "r": 20,
         "t": 20
        },
        "paper_bgcolor": "white",
        "template": {
         "data": {
          "bar": [
           {
            "error_x": {
             "color": "#2a3f5f"
            },
            "error_y": {
             "color": "#2a3f5f"
            },
            "marker": {
             "line": {
              "color": "#E5ECF6",
              "width": 0.5
             },
             "pattern": {
              "fillmode": "overlay",
              "size": 10,
              "solidity": 0.2
             }
            },
            "type": "bar"
           }
          ],
          "barpolar": [
           {
            "marker": {
             "line": {
              "color": "#E5ECF6",
              "width": 0.5
             },
             "pattern": {
              "fillmode": "overlay",
              "size": 10,
              "solidity": 0.2
             }
            },
            "type": "barpolar"
           }
          ],
          "carpet": [
           {
            "aaxis": {
             "endlinecolor": "#2a3f5f",
             "gridcolor": "white",
             "linecolor": "white",
             "minorgridcolor": "white",
             "startlinecolor": "#2a3f5f"
            },
            "baxis": {
             "endlinecolor": "#2a3f5f",
             "gridcolor": "white",
             "linecolor": "white",
             "minorgridcolor": "white",
             "startlinecolor": "#2a3f5f"
            },
            "type": "carpet"
           }
          ],
          "choropleth": [
           {
            "colorbar": {
             "outlinewidth": 0,
             "ticks": ""
            },
            "type": "choropleth"
           }
          ],
          "contour": [
           {
            "colorbar": {
             "outlinewidth": 0,
             "ticks": ""
            },
            "colorscale": [
             [
              0,
              "#0d0887"
             ],
             [
              0.1111111111111111,
              "#46039f"
             ],
             [
              0.2222222222222222,
              "#7201a8"
             ],
             [
              0.3333333333333333,
              "#9c179e"
             ],
             [
              0.4444444444444444,
              "#bd3786"
             ],
             [
              0.5555555555555556,
              "#d8576b"
             ],
             [
              0.6666666666666666,
              "#ed7953"
             ],
             [
              0.7777777777777778,
              "#fb9f3a"
             ],
             [
              0.8888888888888888,
              "#fdca26"
             ],
             [
              1,
              "#f0f921"
             ]
            ],
            "type": "contour"
           }
          ],
          "contourcarpet": [
           {
            "colorbar": {
             "outlinewidth": 0,
             "ticks": ""
            },
            "type": "contourcarpet"
           }
          ],
          "heatmap": [
           {
            "colorbar": {
             "outlinewidth": 0,
             "ticks": ""
            },
            "colorscale": [
             [
              0,
              "#0d0887"
             ],
             [
              0.1111111111111111,
              "#46039f"
             ],
             [
              0.2222222222222222,
              "#7201a8"
             ],
             [
              0.3333333333333333,
              "#9c179e"
             ],
             [
              0.4444444444444444,
              "#bd3786"
             ],
             [
              0.5555555555555556,
              "#d8576b"
             ],
             [
              0.6666666666666666,
              "#ed7953"
             ],
             [
              0.7777777777777778,
              "#fb9f3a"
             ],
             [
              0.8888888888888888,
              "#fdca26"
             ],
             [
              1,
              "#f0f921"
             ]
            ],
            "type": "heatmap"
           }
          ],
          "heatmapgl": [
           {
            "colorbar": {
             "outlinewidth": 0,
             "ticks": ""
            },
            "colorscale": [
             [
              0,
              "#0d0887"
             ],
             [
              0.1111111111111111,
              "#46039f"
             ],
             [
              0.2222222222222222,
              "#7201a8"
             ],
             [
              0.3333333333333333,
              "#9c179e"
             ],
             [
              0.4444444444444444,
              "#bd3786"
             ],
             [
              0.5555555555555556,
              "#d8576b"
             ],
             [
              0.6666666666666666,
              "#ed7953"
             ],
             [
              0.7777777777777778,
              "#fb9f3a"
             ],
             [
              0.8888888888888888,
              "#fdca26"
             ],
             [
              1,
              "#f0f921"
             ]
            ],
            "type": "heatmapgl"
           }
          ],
          "histogram": [
           {
            "marker": {
             "pattern": {
              "fillmode": "overlay",
              "size": 10,
              "solidity": 0.2
             }
            },
            "type": "histogram"
           }
          ],
          "histogram2d": [
           {
            "colorbar": {
             "outlinewidth": 0,
             "ticks": ""
            },
            "colorscale": [
             [
              0,
              "#0d0887"
             ],
             [
              0.1111111111111111,
              "#46039f"
             ],
             [
              0.2222222222222222,
              "#7201a8"
             ],
             [
              0.3333333333333333,
              "#9c179e"
             ],
             [
              0.4444444444444444,
              "#bd3786"
             ],
             [
              0.5555555555555556,
              "#d8576b"
             ],
             [
              0.6666666666666666,
              "#ed7953"
             ],
             [
              0.7777777777777778,
              "#fb9f3a"
             ],
             [
              0.8888888888888888,
              "#fdca26"
             ],
             [
              1,
              "#f0f921"
             ]
            ],
            "type": "histogram2d"
           }
          ],
          "histogram2dcontour": [
           {
            "colorbar": {
             "outlinewidth": 0,
             "ticks": ""
            },
            "colorscale": [
             [
              0,
              "#0d0887"
             ],
             [
              0.1111111111111111,
              "#46039f"
             ],
             [
              0.2222222222222222,
              "#7201a8"
             ],
             [
              0.3333333333333333,
              "#9c179e"
             ],
             [
              0.4444444444444444,
              "#bd3786"
             ],
             [
              0.5555555555555556,
              "#d8576b"
             ],
             [
              0.6666666666666666,
              "#ed7953"
             ],
             [
              0.7777777777777778,
              "#fb9f3a"
             ],
             [
              0.8888888888888888,
              "#fdca26"
             ],
             [
              1,
              "#f0f921"
             ]
            ],
            "type": "histogram2dcontour"
           }
          ],
          "mesh3d": [
           {
            "colorbar": {
             "outlinewidth": 0,
             "ticks": ""
            },
            "type": "mesh3d"
           }
          ],
          "parcoords": [
           {
            "line": {
             "colorbar": {
              "outlinewidth": 0,
              "ticks": ""
             }
            },
            "type": "parcoords"
           }
          ],
          "pie": [
           {
            "automargin": true,
            "type": "pie"
           }
          ],
          "scatter": [
           {
            "marker": {
             "colorbar": {
              "outlinewidth": 0,
              "ticks": ""
             }
            },
            "type": "scatter"
           }
          ],
          "scatter3d": [
           {
            "line": {
             "colorbar": {
              "outlinewidth": 0,
              "ticks": ""
             }
            },
            "marker": {
             "colorbar": {
              "outlinewidth": 0,
              "ticks": ""
             }
            },
            "type": "scatter3d"
           }
          ],
          "scattercarpet": [
           {
            "marker": {
             "colorbar": {
              "outlinewidth": 0,
              "ticks": ""
             }
            },
            "type": "scattercarpet"
           }
          ],
          "scattergeo": [
           {
            "marker": {
             "colorbar": {
              "outlinewidth": 0,
              "ticks": ""
             }
            },
            "type": "scattergeo"
           }
          ],
          "scattergl": [
           {
            "marker": {
             "colorbar": {
              "outlinewidth": 0,
              "ticks": ""
             }
            },
            "type": "scattergl"
           }
          ],
          "scattermapbox": [
           {
            "marker": {
             "colorbar": {
              "outlinewidth": 0,
              "ticks": ""
             }
            },
            "type": "scattermapbox"
           }
          ],
          "scatterpolar": [
           {
            "marker": {
             "colorbar": {
              "outlinewidth": 0,
              "ticks": ""
             }
            },
            "type": "scatterpolar"
           }
          ],
          "scatterpolargl": [
           {
            "marker": {
             "colorbar": {
              "outlinewidth": 0,
              "ticks": ""
             }
            },
            "type": "scatterpolargl"
           }
          ],
          "scatterternary": [
           {
            "marker": {
             "colorbar": {
              "outlinewidth": 0,
              "ticks": ""
             }
            },
            "type": "scatterternary"
           }
          ],
          "surface": [
           {
            "colorbar": {
             "outlinewidth": 0,
             "ticks": ""
            },
            "colorscale": [
             [
              0,
              "#0d0887"
             ],
             [
              0.1111111111111111,
              "#46039f"
             ],
             [
              0.2222222222222222,
              "#7201a8"
             ],
             [
              0.3333333333333333,
              "#9c179e"
             ],
             [
              0.4444444444444444,
              "#bd3786"
             ],
             [
              0.5555555555555556,
              "#d8576b"
             ],
             [
              0.6666666666666666,
              "#ed7953"
             ],
             [
              0.7777777777777778,
              "#fb9f3a"
             ],
             [
              0.8888888888888888,
              "#fdca26"
             ],
             [
              1,
              "#f0f921"
             ]
            ],
            "type": "surface"
           }
          ],
          "table": [
           {
            "cells": {
             "fill": {
              "color": "#EBF0F8"
             },
             "line": {
              "color": "white"
             }
            },
            "header": {
             "fill": {
              "color": "#C8D4E3"
             },
             "line": {
              "color": "white"
             }
            },
            "type": "table"
           }
          ]
         },
         "layout": {
          "annotationdefaults": {
           "arrowcolor": "#2a3f5f",
           "arrowhead": 0,
           "arrowwidth": 1
          },
          "autotypenumbers": "strict",
          "coloraxis": {
           "colorbar": {
            "outlinewidth": 0,
            "ticks": ""
           }
          },
          "colorscale": {
           "diverging": [
            [
             0,
             "#8e0152"
            ],
            [
             0.1,
             "#c51b7d"
            ],
            [
             0.2,
             "#de77ae"
            ],
            [
             0.3,
             "#f1b6da"
            ],
            [
             0.4,
             "#fde0ef"
            ],
            [
             0.5,
             "#f7f7f7"
            ],
            [
             0.6,
             "#e6f5d0"
            ],
            [
             0.7,
             "#b8e186"
            ],
            [
             0.8,
             "#7fbc41"
            ],
            [
             0.9,
             "#4d9221"
            ],
            [
             1,
             "#276419"
            ]
           ],
           "sequential": [
            [
             0,
             "#0d0887"
            ],
            [
             0.1111111111111111,
             "#46039f"
            ],
            [
             0.2222222222222222,
             "#7201a8"
            ],
            [
             0.3333333333333333,
             "#9c179e"
            ],
            [
             0.4444444444444444,
             "#bd3786"
            ],
            [
             0.5555555555555556,
             "#d8576b"
            ],
            [
             0.6666666666666666,
             "#ed7953"
            ],
            [
             0.7777777777777778,
             "#fb9f3a"
            ],
            [
             0.8888888888888888,
             "#fdca26"
            ],
            [
             1,
             "#f0f921"
            ]
           ],
           "sequentialminus": [
            [
             0,
             "#0d0887"
            ],
            [
             0.1111111111111111,
             "#46039f"
            ],
            [
             0.2222222222222222,
             "#7201a8"
            ],
            [
             0.3333333333333333,
             "#9c179e"
            ],
            [
             0.4444444444444444,
             "#bd3786"
            ],
            [
             0.5555555555555556,
             "#d8576b"
            ],
            [
             0.6666666666666666,
             "#ed7953"
            ],
            [
             0.7777777777777778,
             "#fb9f3a"
            ],
            [
             0.8888888888888888,
             "#fdca26"
            ],
            [
             1,
             "#f0f921"
            ]
           ]
          },
          "colorway": [
           "#636efa",
           "#EF553B",
           "#00cc96",
           "#ab63fa",
           "#FFA15A",
           "#19d3f3",
           "#FF6692",
           "#B6E880",
           "#FF97FF",
           "#FECB52"
          ],
          "font": {
           "color": "#2a3f5f"
          },
          "geo": {
           "bgcolor": "white",
           "lakecolor": "white",
           "landcolor": "#E5ECF6",
           "showlakes": true,
           "showland": true,
           "subunitcolor": "white"
          },
          "hoverlabel": {
           "align": "left"
          },
          "hovermode": "closest",
          "mapbox": {
           "style": "light"
          },
          "paper_bgcolor": "white",
          "plot_bgcolor": "#E5ECF6",
          "polar": {
           "angularaxis": {
            "gridcolor": "white",
            "linecolor": "white",
            "ticks": ""
           },
           "bgcolor": "#E5ECF6",
           "radialaxis": {
            "gridcolor": "white",
            "linecolor": "white",
            "ticks": ""
           }
          },
          "scene": {
           "xaxis": {
            "backgroundcolor": "#E5ECF6",
            "gridcolor": "white",
            "gridwidth": 2,
            "linecolor": "white",
            "showbackground": true,
            "ticks": "",
            "zerolinecolor": "white"
           },
           "yaxis": {
            "backgroundcolor": "#E5ECF6",
            "gridcolor": "white",
            "gridwidth": 2,
            "linecolor": "white",
            "showbackground": true,
            "ticks": "",
            "zerolinecolor": "white"
           },
           "zaxis": {
            "backgroundcolor": "#E5ECF6",
            "gridcolor": "white",
            "gridwidth": 2,
            "linecolor": "white",
            "showbackground": true,
            "ticks": "",
            "zerolinecolor": "white"
           }
          },
          "shapedefaults": {
           "line": {
            "color": "#2a3f5f"
           }
          },
          "ternary": {
           "aaxis": {
            "gridcolor": "white",
            "linecolor": "white",
            "ticks": ""
           },
           "baxis": {
            "gridcolor": "white",
            "linecolor": "white",
            "ticks": ""
           },
           "bgcolor": "#E5ECF6",
           "caxis": {
            "gridcolor": "white",
            "linecolor": "white",
            "ticks": ""
           }
          },
          "title": {
           "x": 0.05
          },
          "xaxis": {
           "automargin": true,
           "gridcolor": "white",
           "linecolor": "white",
           "ticks": "",
           "title": {
            "standoff": 15
           },
           "zerolinecolor": "white",
           "zerolinewidth": 2
          },
          "yaxis": {
           "automargin": true,
           "gridcolor": "white",
           "linecolor": "white",
           "ticks": "",
           "title": {
            "standoff": 15
           },
           "zerolinecolor": "white",
           "zerolinewidth": 2
          }
         }
        },
        "width": 900
       }
      },
      "image/png": "[encoded data removed]",
      "text/html": [
       "<div>                            <div id=\"65def492-5b68-4552-832d-175ea716df5e\" class=\"plotly-graph-div\" style=\"height:500px; width:900px;\"></div>            <script type=\"text/javascript\">                require([\"plotly\"], function(Plotly) {                    window.PLOTLYENV=window.PLOTLYENV || {};                                    if (document.getElementById(\"65def492-5b68-4552-832d-175ea716df5e\")) {                    Plotly.newPlot(                        \"65def492-5b68-4552-832d-175ea716df5e\",                        [{\"domain\":{\"x\":[0.0,1.0],\"y\":[0.0,1.0]},\"hovertemplate\":\"\\u9879\\u76ee\\u7c7b\\u578b=%{label}<extra></extra>\",\"labels\":[\"\\u9752\\u5e74\\u79d1\\u5b66\\u57fa\\u91d1\\u9879\\u76ee\",\"\\u9762\\u4e0a\\u9879\\u76ee\",\"\\u9752\\u5e74\\u79d1\\u5b66\\u57fa\\u91d1\\u9879\\u76ee\",\"\\u9752\\u5e74\\u79d1\\u5b66\\u57fa\\u91d1\\u9879\\u76ee\",\"\\u9752\\u5e74\\u79d1\\u5b66\\u57fa\\u91d1\\u9879\\u76ee\",\"\\u9762\\u4e0a\\u9879\\u76ee\",\"\\u9762\\u4e0a\\u9879\\u76ee\",\"\\u9762\\u4e0a\\u9879\\u76ee\",\"\\u9752\\u5e74\\u79d1\\u5b66\\u57fa\\u91d1\\u9879\\u76ee\",\"\\u9752\\u5e74\\u79d1\\u5b66\\u57fa\\u91d1\\u9879\\u76ee\",\"\\u9762\\u4e0a\\u9879\\u76ee\",\"\\u9752\\u5e74\\u79d1\\u5b66\\u57fa\\u91d1\\u9879\\u76ee\",\"\\u9762\\u4e0a\\u9879\\u76ee\",\"\\u9752\\u5e74\\u79d1\\u5b66\\u57fa\\u91d1\\u9879\\u76ee\",\"\\u9762\\u4e0a\\u9879\\u76ee\",\"\\u9752\\u5e74\\u79d1\\u5b66\\u57fa\\u91d1\\u9879\\u76ee\",\"\\u56fd\\u9645\\uff08\\u5730\\u533a\\uff09\\u5408\\u4f5c\\u4e0e\\u4ea4\\u6d41\\u9879\\u76ee\",\"\\u9762\\u4e0a\\u9879\\u76ee\",\"\\u9752\\u5e74\\u79d1\\u5b66\\u57fa\\u91d1\\u9879\\u76ee\",\"\\u9762\\u4e0a\\u9879\\u76ee\",\"\\u9762\\u4e0a\\u9879\\u76ee\",\"\\u9752\\u5e74\\u79d1\\u5b66\\u57fa\\u91d1\\u9879\\u76ee\",\"\\u9762\\u4e0a\\u9879\\u76ee\",\"\\u9752\\u5e74\\u79d1\\u5b66\\u57fa\\u91d1\\u9879\\u76ee\",\"\\u9752\\u5e74\\u79d1\\u5b66\\u57fa\\u91d1\\u9879\\u76ee\",\"\\u9762\\u4e0a\\u9879\\u76ee\",\"\\u9762\\u4e0a\\u9879\\u76ee\",\"\\u9762\\u4e0a\\u9879\\u76ee\",\"\\u9762\\u4e0a\\u9879\\u76ee\",\"\\u9762\\u4e0a\\u9879\\u76ee\",\"\\u9762\\u4e0a\\u9879\\u76ee\",\"\\u9762\\u4e0a\\u9879\\u76ee\",\"\\u9762\\u4e0a\\u9879\\u76ee\",\"\\u9752\\u5e74\\u79d1\\u5b66\\u57fa\\u91d1\\u9879\\u76ee\",\"\\u9762\\u4e0a\\u9879\\u76ee\",\"\\u9752\\u5e74\\u79d1\\u5b66\\u57fa\\u91d1\\u9879\\u76ee\",\"\\u9752\\u5e74\\u79d1\\u5b66\\u57fa\\u91d1\\u9879\\u76ee\",\"\\u9762\\u4e0a\\u9879\\u76ee\",\"\\u9752\\u5e74\\u79d1\\u5b66\\u57fa\\u91d1\\u9879\\u76ee\",\"\\u9762\\u4e0a\\u9879\\u76ee\",\"\\u9762\\u4e0a\\u9879\\u76ee\",\"\\u9762\\u4e0a\\u9879\\u76ee\",\"\\u9762\\u4e0a\\u9879\\u76ee\",\"\\u9762\\u4e0a\\u9879\\u76ee\",\"\\u9752\\u5e74\\u79d1\\u5b66\\u57fa\\u91d1\\u9879\\u76ee\",\"\\u9762\\u4e0a\\u9879\\u76ee\",\"\\u9752\\u5e74\\u79d1\\u5b66\\u57fa\\u91d1\\u9879\\u76ee\",\"\\u9762\\u4e0a\\u9879\\u76ee\",\"\\u9762\\u4e0a\\u9879\\u76ee\",\"\\u9752\\u5e74\\u79d1\\u5b66\\u57fa\\u91d1\\u9879\\u76ee\",\"\\u9762\\u4e0a\\u9879\\u76ee\",\"\\u9762\\u4e0a\\u9879\\u76ee\",\"\\u9762\\u4e0a\\u9879\\u76ee\",\"\\u9762\\u4e0a\\u9879\\u76ee\",\"\\u9752\\u5e74\\u79d1\\u5b66\\u57fa\\u91d1\\u9879\\u76ee\",\"\\u9752\\u5e74\\u79d1\\u5b66\\u57fa\\u91d1\\u9879\\u76ee\",\"\\u9752\\u5e74\\u79d1\\u5b66\\u57fa\\u91d1\\u9879\\u76ee\",\"\\u9762\\u4e0a\\u9879\\u76ee\",\"\\u9752\\u5e74\\u79d1\\u5b66\\u57fa\\u91d1\\u9879\\u76ee\",\"\\u9752\\u5e74\\u79d1\\u5b66\\u57fa\\u91d1\\u9879\\u76ee\",\"\\u9752\\u5e74\\u79d1\\u5b66\\u57fa\\u91d1\\u9879\\u76ee\",\"\\u9762\\u4e0a\\u9879\\u76ee\",\"\\u9762\\u4e0a\\u9879\\u76ee\",\"\\u9762\\u4e0a\\u9879\\u76ee\",\"\\u9752\\u5e74\\u79d1\\u5b66\\u57fa\\u91d1\\u9879\\u76ee\",\"\\u9762\\u4e0a\\u9879\\u76ee\"],\"legendgroup\":\"\",\"name\":\"\",\"showlegend\":false,\"type\":\"pie\",\"hole\":0.2,\"opacity\":1,\"pull\":0.0,\"textinfo\":\"label+value\",\"textposition\":\"inside\"}],                        {\"template\":{\"data\":{\"bar\":[{\"error_x\":{\"color\":\"#2a3f5f\"},\"error_y\":{\"color\":\"#2a3f5f\"},\"marker\":{\"line\":{\"color\":\"#E5ECF6\",\"width\":0.5},\"pattern\":{\"fillmode\":\"overlay\",\"size\":10,\"solidity\":0.2}},\"type\":\"bar\"}],\"barpolar\":[{\"marker\":{\"line\":{\"color\":\"#E5ECF6\",\"width\":0.5},\"pattern\":{\"fillmode\":\"overlay\",\"size\":10,\"solidity\":0.2}},\"type\":\"barpolar\"}],\"carpet\":[{\"aaxis\":{\"endlinecolor\":\"#2a3f5f\",\"gridcolor\":\"white\",\"linecolor\":\"white\",\"minorgridcolor\":\"white\",\"startlinecolor\":\"#2a3f5f\"},\"baxis\":{\"endlinecolor\":\"#2a3f5f\",\"gridcolor\":\"white\",\"linecolor\":\"white\",\"minorgridcolor\":\"white\",\"startlinecolor\":\"#2a3f5f\"},\"type\":\"carpet\"}],\"choropleth\":[{\"colorbar\":{\"outlinewidth\":0,\"ticks\":\"\"},\"type\":\"choropleth\"}],\"contour\":[{\"colorbar\":{\"outlinewidth\":0,\"ticks\":\"\"},\"colorscale\":[[0.0,\"#0d0887\"],[0.1111111111111111,\"#46039f\"],[0.2222222222222222,\"#7201a8\"],[0.3333333333333333,\"#9c179e\"],[0.4444444444444444,\"#bd3786\"],[0.5555555555555556,\"#d8576b\"],[0.6666666666666666,\"#ed7953\"],[0.7777777777777778,\"#fb9f3a\"],[0.8888888888888888,\"#fdca26\"],[1.0,\"#f0f921\"]],\"type\":\"contour\"}],\"contourcarpet\":[{\"colorbar\":{\"outlinewidth\":0,\"ticks\":\"\"},\"type\":\"contourcarpet\"}],\"heatmap\":[{\"colorbar\":{\"outlinewidth\":0,\"ticks\":\"\"},\"colorscale\":[[0.0,\"#0d0887\"],[0.1111111111111111,\"#46039f\"],[0.2222222222222222,\"#7201a8\"],[0.3333333333333333,\"#9c179e\"],[0.4444444444444444,\"#bd3786\"],[0.5555555555555556,\"#d8576b\"],[0.6666666666666666,\"#ed7953\"],[0.7777777777777778,\"#fb9f3a\"],[0.8888888888888888,\"#fdca26\"],[1.0,\"#f0f921\"]],\"type\":\"heatmap\"}],\"heatmapgl\":[{\"colorbar\":{\"outlinewidth\":0,\"ticks\":\"\"},\"colorscale\":[[0.0,\"#0d0887\"],[0.1111111111111111,\"#46039f\"],[0.2222222222222222,\"#7201a8\"],[0.3333333333333333,\"#9c179e\"],[0.4444444444444444,\"#bd3786\"],[0.5555555555555556,\"#d8576b\"],[0.6666666666666666,\"#ed7953\"],[0.7777777777777778,\"#fb9f3a\"],[0.8888888888888888,\"#fdca26\"],[1.0,\"#f0f921\"]],\"type\":\"heatmapgl\"}],\"histogram\":[{\"marker\":{\"pattern\":{\"fillmode\":\"overlay\",\"size\":10,\"solidity\":0.2}},\"type\":\"histogram\"}],\"histogram2d\":[{\"colorbar\":{\"outlinewidth\":0,\"ticks\":\"\"},\"colorscale\":[[0.0,\"#0d0887\"],[0.1111111111111111,\"#46039f\"],[0.2222222222222222,\"#7201a8\"],[0.3333333333333333,\"#9c179e\"],[0.4444444444444444,\"#bd3786\"],[0.5555555555555556,\"#d8576b\"],[0.6666666666666666,\"#ed7953\"],[0.7777777777777778,\"#fb9f3a\"],[0.8888888888888888,\"#fdca26\"],[1.0,\"#f0f921\"]],\"type\":\"histogram2d\"}],\"histogram2dcontour\":[{\"colorbar\":{\"outlinewidth\":0,\"ticks\":\"\"},\"colorscale\":[[0.0,\"#0d0887\"],[0.1111111111111111,\"#46039f\"],[0.2222222222222222,\"#7201a8\"],[0.3333333333333333,\"#9c179e\"],[0.4444444444444444,\"#bd3786\"],[0.5555555555555556,\"#d8576b\"],[0.6666666666666666,\"#ed7953\"],[0.7777777777777778,\"#fb9f3a\"],[0.8888888888888888,\"#fdca26\"],[1.0,\"#f0f921\"]],\"type\":\"histogram2dcontour\"}],\"mesh3d\":[{\"colorbar\":{\"outlinewidth\":0,\"ticks\":\"\"},\"type\":\"mesh3d\"}],\"parcoords\":[{\"line\":{\"colorbar\":{\"outlinewidth\":0,\"ticks\":\"\"}},\"type\":\"parcoords\"}],\"pie\":[{\"automargin\":true,\"type\":\"pie\"}],\"scatter\":[{\"marker\":{\"colorbar\":{\"outlinewidth\":0,\"ticks\":\"\"}},\"type\":\"scatter\"}],\"scatter3d\":[{\"line\":{\"colorbar\":{\"outlinewidth\":0,\"ticks\":\"\"}},\"marker\":{\"colorbar\":{\"outlinewidth\":0,\"ticks\":\"\"}},\"type\":\"scatter3d\"}],\"scattercarpet\":[{\"marker\":{\"colorbar\":{\"outlinewidth\":0,\"ticks\":\"\"}},\"type\":\"scattercarpet\"}],\"scattergeo\":[{\"marker\":{\"colorbar\":{\"outlinewidth\":0,\"ticks\":\"\"}},\"type\":\"scattergeo\"}],\"scattergl\":[{\"marker\":{\"colorbar\":{\"outlinewidth\":0,\"ticks\":\"\"}},\"type\":\"scattergl\"}],\"scattermapbox\":[{\"marker\":{\"colorbar\":{\"outlinewidth\":0,\"ticks\":\"\"}},\"type\":\"scattermapbox\"}],\"scatterpolar\":[{\"marker\":{\"colorbar\":{\"outlinewidth\":0,\"ticks\":\"\"}},\"type\":\"scatterpolar\"}],\"scatterpolargl\":[{\"marker\":{\"colorbar\":{\"outlinewidth\":0,\"ticks\":\"\"}},\"type\":\"scatterpolargl\"}],\"scatterternary\":[{\"marker\":{\"colorbar\":{\"outlinewidth\":0,\"ticks\":\"\"}},\"type\":\"scatterternary\"}],\"surface\":[{\"colorbar\":{\"outlinewidth\":0,\"ticks\":\"\"},\"colorscale\":[[0.0,\"#0d0887\"],[0.1111111111111111,\"#46039f\"],[0.2222222222222222,\"#7201a8\"],[0.3333333333333333,\"#9c179e\"],[0.4444444444444444,\"#bd3786\"],[0.5555555555555556,\"#d8576b\"],[0.6666666666666666,\"#ed7953\"],[0.7777777777777778,\"#fb9f3a\"],[0.8888888888888888,\"#fdca26\"],[1.0,\"#f0f921\"]],\"type\":\"surface\"}],\"table\":[{\"cells\":{\"fill\":{\"color\":\"#EBF0F8\"},\"line\":{\"color\":\"white\"}},\"header\":{\"fill\":{\"color\":\"#C8D4E3\"},\"line\":{\"color\":\"white\"}},\"type\":\"table\"}]},\"layout\":{\"annotationdefaults\":{\"arrowcolor\":\"#2a3f5f\",\"arrowhead\":0,\"arrowwidth\":1},\"autotypenumbers\":\"strict\",\"coloraxis\":{\"colorbar\":{\"outlinewidth\":0,\"ticks\":\"\"}},\"colorscale\":{\"diverging\":[[0,\"#8e0152\"],[0.1,\"#c51b7d\"],[0.2,\"#de77ae\"],[0.3,\"#f1b6da\"],[0.4,\"#fde0ef\"],[0.5,\"#f7f7f7\"],[0.6,\"#e6f5d0\"],[0.7,\"#b8e186\"],[0.8,\"#7fbc41\"],[0.9,\"#4d9221\"],[1,\"#276419\"]],\"sequential\":[[0.0,\"#0d0887\"],[0.1111111111111111,\"#46039f\"],[0.2222222222222222,\"#7201a8\"],[0.3333333333333333,\"#9c179e\"],[0.4444444444444444,\"#bd3786\"],[0.5555555555555556,\"#d8576b\"],[0.6666666666666666,\"#ed7953\"],[0.7777777777777778,\"#fb9f3a\"],[0.8888888888888888,\"#fdca26\"],[1.0,\"#f0f921\"]],\"sequentialminus\":[[0.0,\"#0d0887\"],[0.1111111111111111,\"#46039f\"],[0.2222222222222222,\"#7201a8\"],[0.3333333333333333,\"#9c179e\"],[0.4444444444444444,\"#bd3786\"],[0.5555555555555556,\"#d8576b\"],[0.6666666666666666,\"#ed7953\"],[0.7777777777777778,\"#fb9f3a\"],[0.8888888888888888,\"#fdca26\"],[1.0,\"#f0f921\"]]},\"colorway\":[\"#636efa\",\"#EF553B\",\"#00cc96\",\"#ab63fa\",\"#FFA15A\",\"#19d3f3\",\"#FF6692\",\"#B6E880\",\"#FF97FF\",\"#FECB52\"],\"font\":{\"color\":\"#2a3f5f\"},\"geo\":{\"bgcolor\":\"white\",\"lakecolor\":\"white\",\"landcolor\":\"#E5ECF6\",\"showlakes\":true,\"showland\":true,\"subunitcolor\":\"white\"},\"hoverlabel\":{\"align\":\"left\"},\"hovermode\":\"closest\",\"mapbox\":{\"style\":\"light\"},\"paper_bgcolor\":\"white\",\"plot_bgcolor\":\"#E5ECF6\",\"polar\":{\"angularaxis\":{\"gridcolor\":\"white\",\"linecolor\":\"white\",\"ticks\":\"\"},\"bgcolor\":\"#E5ECF6\",\"radialaxis\":{\"gridcolor\":\"white\",\"linecolor\":\"white\",\"ticks\":\"\"}},\"scene\":{\"xaxis\":{\"backgroundcolor\":\"#E5ECF6\",\"gridcolor\":\"white\",\"gridwidth\":2,\"linecolor\":\"white\",\"showbackground\":true,\"ticks\":\"\",\"zerolinecolor\":\"white\"},\"yaxis\":{\"backgroundcolor\":\"#E5ECF6\",\"gridcolor\":\"white\",\"gridwidth\":2,\"linecolor\":\"white\",\"showbackground\":true,\"ticks\":\"\",\"zerolinecolor\":\"white\"},\"zaxis\":{\"backgroundcolor\":\"#E5ECF6\",\"gridcolor\":\"white\",\"gridwidth\":2,\"linecolor\":\"white\",\"showbackground\":true,\"ticks\":\"\",\"zerolinecolor\":\"white\"}},\"shapedefaults\":{\"line\":{\"color\":\"#2a3f5f\"}},\"ternary\":{\"aaxis\":{\"gridcolor\":\"white\",\"linecolor\":\"white\",\"ticks\":\"\"},\"baxis\":{\"gridcolor\":\"white\",\"linecolor\":\"white\",\"ticks\":\"\"},\"bgcolor\":\"#E5ECF6\",\"caxis\":{\"gridcolor\":\"white\",\"linecolor\":\"white\",\"ticks\":\"\"}},\"title\":{\"x\":0.05},\"xaxis\":{\"automargin\":true,\"gridcolor\":\"white\",\"linecolor\":\"white\",\"ticks\":\"\",\"title\":{\"standoff\":15},\"zerolinecolor\":\"white\",\"zerolinewidth\":2},\"yaxis\":{\"automargin\":true,\"gridcolor\":\"white\",\"linecolor\":\"white\",\"ticks\":\"\",\"title\":{\"standoff\":15},\"zerolinecolor\":\"white\",\"zerolinewidth\":2}}},\"legend\":{\"tracegroupgap\":0},\"margin\":{\"t\":20,\"l\":20,\"r\":20,\"b\":20},\"paper_bgcolor\":\"white\",\"height\":500,\"width\":900},                        {\"responsive\": true}                    ).then(function(){\n",
       "                            \n",
       "var gd = document.getElementById('65def492-5b68-4552-832d-175ea716df5e');\n",
       "var x = new MutationObserver(function (mutations, observer) {{\n",
       "        var display = window.getComputedStyle(gd).display;\n",
       "        if (!display || display === 'none') {{\n",
       "            console.log([gd, 'removed!']);\n",
       "            Plotly.purge(gd);\n",
       "            observer.disconnect();\n",
       "        }}\n",
       "}});\n",
       "\n",
       "// Listen for the removal of the full notebook cells\n",
       "var notebookContainer = gd.closest('#notebook-container');\n",
       "if (notebookContainer) {{\n",
       "    x.observe(notebookContainer, {childList: true});\n",
       "}}\n",
       "\n",
       "// Listen for the clearing of the current output cell\n",
       "var outputEl = gd.closest('.output');\n",
       "if (outputEl) {{\n",
       "    x.observe(outputEl, {childList: true});\n",
       "}}\n",
       "\n",
       "                        })                };                });            </script>        </div>"
      ]
     },
     "metadata": {},
     "output_type": "display_data"
    }
   ],
   "source": [
    "import plotly.express as px\n",
    "\n",
    "fig = px.pie(df1,  names=df1['项目类型'],\n",
    "             # title='Population of American continent',\n",
    "            )\n",
    "\n",
    "fig.update_traces(textposition='inside',textinfo='label+value',showlegend=False,opacity=1,pull=0.00,hole=0.2)\n",
    "# fig.update_layout(uniformtext_minsize=9, uniformtext_mode='hide')\n",
    "\n",
    "fig.update_layout(\n",
    "    margin=dict(l=20, r=20, t=20, b=20),  # 上下左右的边距大小\n",
    "    paper_bgcolor=\"white\",  # 颜色\n",
    ")\n",
    "\n",
    "fig.update_layout(height=500,width=900)\n",
    "\n",
    "fig.show()"
   ]
  },
  {
   "cell_type": "code",
   "execution_count": 346,
   "id": "15a721ec-0734-41bd-a6da-8b3acb2a4b1e",
   "metadata": {},
   "outputs": [],
   "source": [
    "fig.write_image(\"fig-all.pdf\")"
   ]
  }
 ],
 "metadata": {
  "kernelspec": {
   "display_name": "Python 3 (ipykernel)",
   "language": "python",
   "name": "python3"
  },
  "language_info": {
   "codemirror_mode": {
    "name": "ipython",
    "version": 3
   },
   "file_extension": ".py",
   "mimetype": "text/x-python",
   "name": "python",
   "nbconvert_exporter": "python",
   "pygments_lexer": "ipython3",
   "version": "3.9.7"
  }
 },
 "nbformat": 4,
 "nbformat_minor": 5
}
